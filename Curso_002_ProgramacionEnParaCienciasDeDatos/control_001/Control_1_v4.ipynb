{
  "cells": [
    {
      "metadata": {},
      "cell_type": "markdown",
      "source": "# Control 1: Sintaxis básica y manipulación de objetos simples en R\n"
    },
    {
      "metadata": {
        "trusted": true
      },
      "cell_type": "markdown",
      "source": "Nombre 1: _Puede incluir su nombre acá haciendo doble click_                                                                                                                                      <br> \nNombre 2: _Puede incluir su nombre acá haciendo doble click_   \n\n# Instrucciones\n\nEl siguiente test podrá desarrollarlo de manera individual o en pareja con otro(a) de sus compañeros(as).<br>\n\nLea atentamente cada una de las preguntas propuestas y sea claro en los comentarios (si es que los incluye) de los desarrollos de sus respuestas. Para el desarrollo de las mismas, dispone de celdas de código después de cada pregunta. Sin embargo podrá agregar más celdas si así lo estima conveniente.<br>\nLas preguntas formuladas en este test pueden ser abordadas con las herramientas trabajadas en clases y en las sesiones de _ejercitación_, sin embaro, usted podrá hacer uso de las funcionalidades y/o packages que estime convenientes, a menos que se indique explícitamente lo contrario.\n\n## Tiempo y entrega\nDispondrán hasta el día domingo 12 de julio hasta las 23:59 hrs para hacer envío de sus respuestas.\nUna vez finalizado el desarrollo del test, deberá entregarlo teniendo en cuenta las siguientes consideraciones :\n\n 1. Descargue el notebook en **formato HTML** (uno por pareja), e indique en el nombre del archivo los nombres de los integrantes, Control1_nombres_integrantes.html. \n    En caso de trabajar en Rstudio, deberá enviar el script de extensión *.R con el siguiente nombre: Control1_nombres_integrantes.R , **procurando indicar con comentarios claros, qué pregunta está respondiendo en cada caso**.\n * Envíe el archivo al correo angelubilla@gmail.com, con copia a majorquev@gmail.com con el asunto \"DBDN-R-C1: 'nombre y apellido de los integrantes' \"\n \n**NOTA**: \n   * Los correos cuyo asunto no comiencen con \"DBDN-R-C1\" no llegarán a destino y por ende no serán calificados.\n   * Los archivos que no contengan nombre serán calificados con la nota mínima 1.0.\n   * Los correos enviados posterior a la fecha y hora de entrega indicados tendrán una penalización de 1 punto por día (o fracción) de retraso en la entrega, por ejemplo, si usted envía sus respuestas a las 00:05 hrs del lunes 13 de julio, su nota máxima será un 6.0."
    },
    {
      "metadata": {},
      "cell_type": "markdown",
      "source": "# Sección 1\n\nLa siguiente línea de código permite cargar en memoria, un objeto de extensión *.rds que está almacenado en el disco de la máquina en la ruta actual de trabajo.\n\nEste archivo contiene la información de los contagios por COVID-19 en nuestsro país, según las cifras oficiales entregadas por el ministerio de salud actualizadas al 08 de mayo. En el archivo encontrará, para cada mes, el total de casos diarios desglosados según:\n   * 'casos_nuevos_con_sintomas': casos nuevos con síntomas del día.\n   * 'casos_totales' : casos acumulados a la fecha.\n   * 'casos_recuperados': casos recuperados acumulados a la fecha.\n   * 'fallecidos': casos fallecidos acumulados.\n   * 'casos_activos': casos activos a la fecha.\n   * 'casos_nuevos_sin_sintomas': casos asintomáticos del día.\n   * 'casos_nuevos_totales': suma de  casos asintomáticos más casos con síntomas del día.\n \n Si bien no será utilizados en este trabajo, también econtrán nuevos registros de acuerdo a los últimos cambios en la metodología de conteo. Para más info pueden referirse al siguiente link:\n https://github.com/MinCiencia/Datos-COVID19/tree/master/output/producto5\n \n   * 'casos_activos_por_fd'\n   * 'casos_activos_por_fis'\n   * 'casos_recuperados_por_fis'\n   * 'casos_recuperados_por_fd' \n   * 'casos_confirmados_recuperados'\n   * 'casos_activos_confirmados'\n   * 'casos_probables_acumulados'\n   * 'casos_activos_probables'\n\n"
    },
    {
      "metadata": {
        "trusted": true
      },
      "cell_type": "code",
      "source": "# Carga de casos\ncasos <- readRDS(\"covid.rds\")",
      "execution_count": 2,
      "outputs": []
    },
    {
      "metadata": {},
      "cell_type": "markdown",
      "source": "## Pregunta 1.1\n\n**1a) (1pt)** ¿Qué clase de objetos es `casos`? <br>\n**1b) (1pt)** ¿Cuántos elementos posee este objeto?<br>\n**1c) (1pt)** ¿Cuáles son los nombres de este objeto?<br>\n**1d) (2pt)** ¿Qué clase de objeto está almacenado en sl _slot_ correspondiente al mes de junio (\"jun\") y cuántos elementos posee?<br>\n**1e) (2pt)** Para el mes de junio, ¿a qué clase de objeto corresponde `casos_totales` y cuántos elementos posee?\n\n\n"
    },
    {
      "metadata": {
        "trusted": true
      },
      "cell_type": "code",
      "source": "# P1.1\n## Respusta \n",
      "execution_count": null,
      "outputs": []
    },
    {
      "metadata": {},
      "cell_type": "markdown",
      "source": "## Pregunta 1.2\n\n**2a) (2pts)** ¿Cuántos casos activos existían al 25 de marzo? (indique claramente la expresión de R para obtener el valor solicitado) .<br>\n**2b) (1pts)** Genere cinco nuevas variables llamadas `totales_marzo`,`totales_abril` , `totales_mayo`, `totales_junio` y `totales_julio`, que contengan los dataframes correspondientes al slot `casos_totales` del mes respectivo, (por ejemplo, la variable `totales_julio` debe contener una dataframe de dimensión $8\\times2$.<br>\n**2c) (2pts)** Para cada dataframe del paso anterior, genere una nueva columna llamada `mes`, que repita el nombre del mes correspondiente por cada fila.<br>\n**2d) (3pts)** En cada data.frame, agregue una nueva columna llamada `casos_diarios` que contanga la información correspontiende al total de casos nuevos diarios(`casos_nuevos_totales`).\n"
    },
    {
      "metadata": {
        "trusted": true
      },
      "cell_type": "code",
      "source": "# P1.2\n## Respusta \n ",
      "execution_count": null,
      "outputs": []
    },
    {
      "metadata": {},
      "cell_type": "markdown",
      "source": "## Pregunta 1.3\n\n**3a) (1pts)** Con la ayuda de lafunción rbind() , una las filas de las 5 tablas generadas en la pregunta anterior y guarde la tabla resultante en una variable llamada `casos_hist`.<br>\n**3b) (1pt)** En promedio, ¿Cuántos casos hay diariamente desde el 03 de marzo hasta el 08 de julio?<br>\n**3c) (2pts)** En promedio, ¿Cuántos casos hay diariamente **en cada mes** ?.<br>\n\n\n"
    },
    {
      "metadata": {
        "trusted": true
      },
      "cell_type": "code",
      "source": "# P1.3\n## Respusta \n",
      "execution_count": null,
      "outputs": []
    },
    {
      "metadata": {},
      "cell_type": "markdown",
      "source": "# Sección 2\n\nLa siguiente celda de código permitirá cargar en su sesión de trabajo los siguientes vectores:\n* `temp_hombre`: Contiene el registro de la temperatura para una muestra de 650 hombres escogidos al azar.\n* `temp_hombre`: Contiene el registro de la temperatura para una muestra de 580 mujeres escogidas al azar.\n\n\nEn ambos vectores, **los identificadores (id) de cada persona están contenidos en el atributo `names()`** del vector respectivo."
    },
    {
      "metadata": {
        "trusted": true
      },
      "cell_type": "code",
      "source": "temp_h <- readRDS(\"temp_h.rds\")\ntemp_m <- readRDS(\"temp_m.rds\")",
      "execution_count": 2,
      "outputs": []
    },
    {
      "metadata": {},
      "cell_type": "markdown",
      "source": "##  Pregunta 2.1\n\n**P1) (4pts)** A partir de los dos vectores cargados `temp_h` y `temp_m` ustred deberá crear un data.frame llamado **`casos`** con tres columnas y un total de 1230 filas. Las columnas deben ser las siguientes; una con el id del registro, otra con el género y otra con la temperatura registrada. A modo de ejemplo, a continuación se muestra como debería quedar el data.frame:\n\n\n|id | genero | temperatura|\n|---|---|---|\n| h_162 | hombre | 36.8 |\n| h_140 | hombre | 38.7 |\n| h_13  | hombre | 36.1 |\n| $\\vdots$| $\\vdots$ | $\\vdots$|\n| m_16  | mujer | 39.1 |\n| m_502 | mujer | 40.1 |\n| m_189 | mujer | 36.8 |"
    },
    {
      "metadata": {
        "trusted": true
      },
      "cell_type": "code",
      "source": "# P2.1. ---------------------------------------------------------------------\n## Respuesta:\n",
      "execution_count": null,
      "outputs": []
    },
    {
      "metadata": {},
      "cell_type": "markdown",
      "source": "## Pregunta 2.2\n\nAdicionalmente, se cuenta con la información de síntomas presentados por cada presona registrada. Esta información se encuentra disponible en el archivo `sintomas.rds`.\n\n**2a) (1pt)** Cargue el archivo `sintomas.rds` en una variable llamada _sintomas_.<br>\n**2b) (1pt)** ¿Cuál es la clase de este objeto?.<br>\n**2c) (1pt)** Note que cada fila undica con un 1 si la persona presentó el respectivo síntoma y 0 si no. ¿Qué sintomas presentó la persona ubicada en el registro 450?.<br>\n**2d) (2pts)** ¿Qué síntomas y qué temperatura presentó la persona con id \"h_537\"?. Si es le es de utilidad puede utilizar la función `rownames()`, la cual permite obtener los nombres (id) de las filas de una matriz.<br>\n\n"
    },
    {
      "metadata": {
        "trusted": true
      },
      "cell_type": "code",
      "source": "# P2 .2\n## Respuestas:\n",
      "execution_count": null,
      "outputs": []
    },
    {
      "metadata": {},
      "cell_type": "markdown",
      "source": "## Nota de utilidad\n\nYa sea trabajando con un vector, matriz, data.frame o lista, es posible omitir la selección de alguna(s) de sus posiciones (filas/columnas o slots). Esto se puede llevar a cabo de diversas maneras, por ejemplo:"
    },
    {
      "metadata": {
        "trusted": true
      },
      "cell_type": "code",
      "source": "# Primero creamos un vector, una matriz, un data.frame  y una lista \n\nvec <- c(v1 = 1, v2 = 2, v3 = 3,v4 = 4)\nmat <- cbind(c(1,1),c(2,2),c(3,3),c(4,4) ) ; rownames(mat) <- c(\"f1\",\"f2\"); colnames(mat) <- c(\"c1\",\"c2\",\"c3\",\"c4\")\ndat <- as.data.frame(mat)\nlis <- list(s1 = c(1,1), s2 = c(2,2), s3 = c(3,3) , s4 = c(4,4))",
      "execution_count": null,
      "outputs": []
    },
    {
      "metadata": {},
      "cell_type": "markdown",
      "source": "### Omisión por posición"
    },
    {
      "metadata": {
        "trusted": true
      },
      "cell_type": "code",
      "source": "#Si queremos omitir el primer y tercer elmento del vector y la lista\nvec[-c(1,3)]\nlis[-c(1,3)]\n\n# Misma idea si queremos omitir columnas de una matriz (o data.frame)\nmat[,-c(1,3)]\ndat[,-c(1,3)]\n\n",
      "execution_count": null,
      "outputs": []
    },
    {
      "metadata": {},
      "cell_type": "markdown",
      "source": "### Omisión por nombres"
    },
    {
      "metadata": {
        "trusted": true
      },
      "cell_type": "code",
      "source": "# Por ahora tendremos que ubicar las posiciones de los nombres deseados.\n\npos_vec <- which(names(vec) %in% c(\"v1\",\"v3\"))\npos_lis <- which(names(lis) %in% c(\"s1\",\"s3\"))\npos_mat <- which(colnames(mat) %in% c(\"c1\",\"c3\"))\npos_dat <- which(names(dat) %in% c(\"c1\",\"c3\"))\n\nvec[-pos_vec]\nlis[-pos_lis]\n\n# Misma idea si queremos omitir columnas de una matriz (o data.frame)\nmat[,-pos_mat]\ndat[,-pos_dat]\n",
      "execution_count": null,
      "outputs": []
    },
    {
      "metadata": {},
      "cell_type": "markdown",
      "source": "Más adelante veremos otras alternivas, como por ejemplo, utilizando funciones del package `dplyr`.\n\n## Pregunta 2.3\n\nCon la ayuda de las funciones `rowSums()` y `colSums()`, identifique lo siguiente.\n\n  **3a) (3pt)** ¿Cuántos registros presentaron exactamente los 4 síntomas?<br>\n  **3b) (1pt)** ¿Cúantas personas presentaron tos? <br>\n  **3c) (2pt)** ¿Cuál es el síntoma más frecuente?<br>\n  "
    },
    {
      "metadata": {
        "trusted": true
      },
      "cell_type": "code",
      "source": "# P3\n##Respuestas:\n",
      "execution_count": null,
      "outputs": []
    },
    {
      "metadata": {},
      "cell_type": "markdown",
      "source": "## Pregunta 2.4\n\n**4a) (1pt)** La función `as.data.frame()` permite coercionar un objeto de otra clase a `data.frame`.\ncree una variable llamada `sintomas_df` con la información  de sintomas pero como data.frame.<br>\n**4b) (1pts)**\nSe puede observar que los ids solo están disponibles en los nombres de las filas. Sin embargo esútil tener esta información como una columna más de la tabla. Para ello **cree una nueva columna en la tabla sintomas_df** llamada `id` que contenga los ids de cada registro. \n\nNOTA: El orden de las filas no ha variado por lo que podemos añadir la columna sin mayores precauciones.<br>\n**4c) (2pts)** ¿Cuántas personas **sólo** presentaron tos y dolor de cabeza?<br>\n**4d) (1pt)** Se sabe que una persona tiene fiebre cuando su temperatura es mayor o igual a los 37.2°. **Cree una nueva columna en la tabla sintomas_df** llamada `tiene_fiebre` que contenga `TRUE` cuando tiene fiebre y `FALSE` en caso contrario. \n\n"
    },
    {
      "metadata": {
        "trusted": true
      },
      "cell_type": "code",
      "source": "# P4\n#Respuestas:\n",
      "execution_count": null,
      "outputs": []
    }
  ],
  "metadata": {
    "kernelspec": {
      "name": "r",
      "display_name": "R",
      "language": "R"
    },
    "language_info": {
      "mimetype": "text/x-r-source",
      "name": "R",
      "pygments_lexer": "r",
      "version": "3.5.3",
      "file_extension": ".r",
      "codemirror_mode": "r"
    }
  },
  "nbformat": 4,
  "nbformat_minor": 2
}