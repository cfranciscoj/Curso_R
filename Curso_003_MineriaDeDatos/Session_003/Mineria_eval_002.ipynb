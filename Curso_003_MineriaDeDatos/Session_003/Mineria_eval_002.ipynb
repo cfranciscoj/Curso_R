{
 "cells": [
  {
   "cell_type": "code",
   "execution_count": 1,
   "metadata": {},
   "outputs": [],
   "source": [
    "library(rpart)\n",
    "library(rpart.plot)\n"
   ]
  },
  {
   "cell_type": "code",
   "execution_count": 2,
   "metadata": {},
   "outputs": [],
   "source": [
    "setwd(\"/home/carlos/repos/Curso_R/Curso_003_MineriaDeDatos/Session_003\")"
   ]
  },
  {
   "cell_type": "code",
   "execution_count": 3,
   "metadata": {},
   "outputs": [],
   "source": [
    "datos <- read.csv(\"Datos Tenis.csv\", sep=\";\",header=TRUE)"
   ]
  },
  {
   "cell_type": "code",
   "execution_count": 7,
   "metadata": {},
   "outputs": [],
   "source": [
    "modelo1 <- rpart(Jugar ~ Clima + Temperatura + Humedad + Viento,\n",
    "                 data = datos,\n",
    "                 method = \"class\",\n",
    "                 parms = list(split = \"information\"),\n",
    "                 control = rpart.control(minsplit = 1,\n",
    "                                         minbucket = 1,\n",
    "                                         maxdepth = 5,\n",
    "                                         cp = 0))"
   ]
  },
  {
   "cell_type": "code",
   "execution_count": 8,
   "metadata": {},
   "outputs": [
    {
     "name": "stderr",
     "output_type": "stream",
     "text": [
      "Warning message in strsplit(labs, \"\\n\\n\"):\n",
      "“string de entrada 7 es inválida en este locale”\n",
      "Warning message in strsplit(labs, \"\\n\\n\"):\n",
      "“string de entrada 8 es inválida en este locale”\n",
      "Warning message in strsplit(labs, \"\\n\\n\"):\n",
      "“string de entrada 9 es inválida en este locale”\n",
      "Warning message in strsplit(labs, \"\\n\\n\"):\n",
      "“string de entrada 2 es inválida en este locale”\n",
      "Warning message in strsplit(labs, \"\\n\\n\"):\n",
      "“string de entrada 7 es inválida en este locale”\n",
      "Warning message in strsplit(labs, \"\\n\\n\"):\n",
      "“string de entrada 8 es inválida en este locale”\n",
      "Warning message in strsplit(labs, \"\\n\\n\"):\n",
      "“string de entrada 9 es inválida en este locale”\n"
     ]
    },
    {
     "ename": "ERROR",
     "evalue": "Error in strwidth(s[i], units[i], cex[i], font[i], vfont = NULL): invalid string in PangoCairo_Text\n",
     "output_type": "error",
     "traceback": [
      "Error in strwidth(s[i], units[i], cex[i], font[i], vfont = NULL): invalid string in PangoCairo_Text\nTraceback:\n",
      "1. rpart.plot(modelo1)",
      "2. prp(x, type = type, extra = extra, under = under, fallen.leaves = fallen.leaves, \n .     digits = digits, varlen = varlen, faclen = faclen, roundint = roundint, \n .     cex = cex, tweak = tweak, clip.facs = clip.facs, clip.right.labs = clip.right.labs, \n .     snip = snip, box.palette = box.palette, shadow.col = shadow.col, \n .     ...)",
      "3. get.layout(obj, type, nn, yesno, fallen.leaves, branch, uniform, \n .     Margin, cex, auto.cex, compress, ycompress, trace, main, \n .     sub, node.labs, font, family, box.col, border.col, under.font, \n .     under.cex, split.labs, right.split.labs, split.cex, split.font, \n .     split.family, split.box.col, split.border.col, nspace, minbranch, \n .     adj, yshift, space, yspace, split.adj, split.yshift, split.space, \n .     split.yspace, gap, ygap, under.ygap, xcompact, ycompact, \n .     xcompact.ratio, min.inter.height, max.auto.cex, min.auto.cex, \n .     ycompress.cex, accept.cex, shift.amounts, Fallen.yspace, \n .     bg)",
      "4. get.actual.scale(x.org, y.org, split.yshift)",
      "5. get.scale(x, y, xmax, ymax, scale, split.yshift)",
      "6. get.scales(x, y, xmax, ymax, scale, split.yshift)",
      "7. get.combined.boxes(x, y, xmax, ymax, scale, type, split.yshift)",
      "8. get.boxes(\"default\", node.labs, x, y, xmax, ymax, nodes, branch, \n .     Margin, FALSE, FALSE, main, sub, 0, 1, 0, 1, scale * node.cex, \n .     node.font, node.family, node.adj, node.yshift, box.col, border.col, \n .     node.space + gap/2, node.yspace + ygap/2, ygap, bg, do.init.plot = TRUE)",
      "9. my.strwidth(labs, cex, font, family)",
      "10. strwidth(s[i], units[i], cex[i], font[i], vfont = NULL)"
     ]
    },
    {
     "data": {
      "image/png": "[encoded data removed]",
      "text/plain": [
       "plot without title"
      ]
     },
     "metadata": {
      "image/png": {
       "height": 420,
       "width": 420
      }
     },
     "output_type": "display_data"
    }
   ],
   "source": [
    "rpart.plot(modelo1)"
   ]
  },
  {
   "cell_type": "code",
   "execution_count": 6,
   "metadata": {},
   "outputs": [],
   "source": [
    "?rpart.plot"
   ]
  }
 ],
 "metadata": {
  "kernelspec": {
   "display_name": "R",
   "language": "R",
   "name": "ir"
  },
  "language_info": {
   "codemirror_mode": "r",
   "file_extension": ".r",
   "mimetype": "text/x-r-source",
   "name": "R",
   "pygments_lexer": "r",
   "version": "4.0.2"
  }
 },
 "nbformat": 4,
 "nbformat_minor": 2
}
